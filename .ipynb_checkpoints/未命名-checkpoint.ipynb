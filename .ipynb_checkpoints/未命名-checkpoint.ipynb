{
 "cells": [
  {
   "cell_type": "code",
   "execution_count": 1,
   "metadata": {},
   "outputs": [],
   "source": [
    "import numpy as np\n",
    "import pandas as pd\n",
    "import seaborn as sns\n",
    "import matplotlib.pyplot as plt\n",
    "import datetime\n",
    "import calendar"
   ]
  },
  {
   "cell_type": "code",
   "execution_count": 2,
   "metadata": {},
   "outputs": [
    {
     "data": {
      "text/html": [
       "<div>\n",
       "<style scoped>\n",
       "    .dataframe tbody tr th:only-of-type {\n",
       "        vertical-align: middle;\n",
       "    }\n",
       "\n",
       "    .dataframe tbody tr th {\n",
       "        vertical-align: top;\n",
       "    }\n",
       "\n",
       "    .dataframe thead th {\n",
       "        text-align: right;\n",
       "    }\n",
       "</style>\n",
       "<table border=\"1\" class=\"dataframe\">\n",
       "  <thead>\n",
       "    <tr style=\"text-align: right;\">\n",
       "      <th></th>\n",
       "      <th>开始时间</th>\n",
       "      <th>持续时间</th>\n",
       "      <th>事件大类</th>\n",
       "      <th>事件类别</th>\n",
       "      <th>内容类型</th>\n",
       "      <th>事件内容</th>\n",
       "      <th>备注</th>\n",
       "      <th>Tag</th>\n",
       "      <th>状态</th>\n",
       "    </tr>\n",
       "  </thead>\n",
       "  <tbody>\n",
       "    <tr>\n",
       "      <th>0</th>\n",
       "      <td>2020/3/4 0:00</td>\n",
       "      <td>120</td>\n",
       "      <td>未分类</td>\n",
       "      <td>玩手机</td>\n",
       "      <td>未分类</td>\n",
       "      <td>NaN</td>\n",
       "      <td>NaN</td>\n",
       "      <td>NaN</td>\n",
       "      <td>已完成</td>\n",
       "    </tr>\n",
       "    <tr>\n",
       "      <th>1</th>\n",
       "      <td>2020/3/4 2:00</td>\n",
       "      <td>450</td>\n",
       "      <td>未分类</td>\n",
       "      <td>睡觉</td>\n",
       "      <td>未分类</td>\n",
       "      <td>NaN</td>\n",
       "      <td>NaN</td>\n",
       "      <td>NaN</td>\n",
       "      <td>已完成</td>\n",
       "    </tr>\n",
       "    <tr>\n",
       "      <th>2</th>\n",
       "      <td>2020/3/4 9:30</td>\n",
       "      <td>60</td>\n",
       "      <td>未分类</td>\n",
       "      <td>玩手机</td>\n",
       "      <td>未分类</td>\n",
       "      <td>NaN</td>\n",
       "      <td>NaN</td>\n",
       "      <td>NaN</td>\n",
       "      <td>已完成</td>\n",
       "    </tr>\n",
       "    <tr>\n",
       "      <th>3</th>\n",
       "      <td>2020/3/4 10:30</td>\n",
       "      <td>30</td>\n",
       "      <td>未分类</td>\n",
       "      <td>通勤</td>\n",
       "      <td>未分类</td>\n",
       "      <td>NaN</td>\n",
       "      <td>NaN</td>\n",
       "      <td>NaN</td>\n",
       "      <td>已完成</td>\n",
       "    </tr>\n",
       "    <tr>\n",
       "      <th>4</th>\n",
       "      <td>2020/3/5 0:00</td>\n",
       "      <td>30</td>\n",
       "      <td>未分类</td>\n",
       "      <td>玩手机</td>\n",
       "      <td>未分类</td>\n",
       "      <td>NaN</td>\n",
       "      <td>NaN</td>\n",
       "      <td>NaN</td>\n",
       "      <td>已完成</td>\n",
       "    </tr>\n",
       "  </tbody>\n",
       "</table>\n",
       "</div>"
      ],
      "text/plain": [
       "             开始时间  持续时间 事件大类 事件类别 内容类型  事件内容  备注  Tag   状态\n",
       "0   2020/3/4 0:00   120  未分类  玩手机  未分类   NaN NaN  NaN  已完成\n",
       "1   2020/3/4 2:00   450  未分类   睡觉  未分类   NaN NaN  NaN  已完成\n",
       "2   2020/3/4 9:30    60  未分类  玩手机  未分类   NaN NaN  NaN  已完成\n",
       "3  2020/3/4 10:30    30  未分类   通勤  未分类   NaN NaN  NaN  已完成\n",
       "4   2020/3/5 0:00    30  未分类  玩手机  未分类   NaN NaN  NaN  已完成"
      ]
     },
     "execution_count": 2,
     "metadata": {},
     "output_type": "execute_result"
    }
   ],
   "source": [
    "origin = pd.read_csv(\"/Users/danieldiiorio/Projects/Time-Recorder/Data/export_20200427_162355.csv\")\n",
    "origin.head()"
   ]
  },
  {
   "cell_type": "code",
   "execution_count": 3,
   "metadata": {},
   "outputs": [
    {
     "ename": "AttributeError",
     "evalue": "'Series' object has no attribute 'split'",
     "output_type": "error",
     "traceback": [
      "\u001b[0;31m---------------------------------------------------------------------------\u001b[0m",
      "\u001b[0;31mAttributeError\u001b[0m                            Traceback (most recent call last)",
      "\u001b[0;32m<ipython-input-3-6c8af24ae09b>\u001b[0m in \u001b[0;36m<module>\u001b[0;34m\u001b[0m\n\u001b[1;32m      1\u001b[0m \u001b[0mdata\u001b[0m \u001b[0;34m=\u001b[0m \u001b[0morigin\u001b[0m\u001b[0;34m.\u001b[0m\u001b[0mreplace\u001b[0m\u001b[0;34m(\u001b[0m\u001b[0;34m)\u001b[0m\u001b[0;34m\u001b[0m\u001b[0;34m\u001b[0m\u001b[0m\n\u001b[1;32m      2\u001b[0m \u001b[0mdata\u001b[0m\u001b[0;34m[\u001b[0m\u001b[0;34m\"年\"\u001b[0m\u001b[0;34m]\u001b[0m \u001b[0;34m=\u001b[0m \u001b[0mdata\u001b[0m\u001b[0;34m[\u001b[0m\u001b[0;34m\"开始时间\"\u001b[0m\u001b[0;34m]\u001b[0m\u001b[0;34m.\u001b[0m\u001b[0mstr\u001b[0m\u001b[0;34m[\u001b[0m\u001b[0;36m0\u001b[0m\u001b[0;34m:\u001b[0m\u001b[0;36m4\u001b[0m\u001b[0;34m]\u001b[0m\u001b[0;34m\u001b[0m\u001b[0;34m\u001b[0m\u001b[0m\n\u001b[0;32m----> 3\u001b[0;31m \u001b[0mdata\u001b[0m\u001b[0;34m[\u001b[0m\u001b[0;34m\"月\"\u001b[0m\u001b[0;34m]\u001b[0m \u001b[0;34m=\u001b[0m \u001b[0mdata\u001b[0m\u001b[0;34m[\u001b[0m\u001b[0;34m\"开始时间\"\u001b[0m\u001b[0;34m]\u001b[0m\u001b[0;34m.\u001b[0m\u001b[0mstr\u001b[0m\u001b[0;34m[\u001b[0m\u001b[0;34m:\u001b[0m\u001b[0;34m]\u001b[0m\u001b[0;34m.\u001b[0m\u001b[0msplit\u001b[0m\u001b[0;34m(\u001b[0m\u001b[0;34m\"/\"\u001b[0m\u001b[0;34m)\u001b[0m\u001b[0;34m[\u001b[0m\u001b[0;36m1\u001b[0m\u001b[0;34m]\u001b[0m\u001b[0;34m\u001b[0m\u001b[0;34m\u001b[0m\u001b[0m\n\u001b[0m\u001b[1;32m      4\u001b[0m \u001b[0mdata\u001b[0m\u001b[0;34m[\u001b[0m\u001b[0;34m\"日\"\u001b[0m\u001b[0;34m]\u001b[0m \u001b[0;34m=\u001b[0m \u001b[0mdata\u001b[0m\u001b[0;34m[\u001b[0m\u001b[0;34m\"开始时间\"\u001b[0m\u001b[0;34m]\u001b[0m\u001b[0;34m.\u001b[0m\u001b[0mstr\u001b[0m\u001b[0;34m[\u001b[0m\u001b[0;36m8\u001b[0m\u001b[0;34m:\u001b[0m\u001b[0;36m10\u001b[0m\u001b[0;34m]\u001b[0m\u001b[0;34m\u001b[0m\u001b[0;34m\u001b[0m\u001b[0m\n\u001b[1;32m      5\u001b[0m \u001b[0mdata\u001b[0m\u001b[0;34m[\u001b[0m\u001b[0;34m\"小时\"\u001b[0m\u001b[0;34m]\u001b[0m \u001b[0;34m=\u001b[0m \u001b[0mdata\u001b[0m\u001b[0;34m[\u001b[0m\u001b[0;34m\"开始时间\"\u001b[0m\u001b[0;34m]\u001b[0m\u001b[0;34m.\u001b[0m\u001b[0mstr\u001b[0m\u001b[0;34m[\u001b[0m\u001b[0;36m11\u001b[0m\u001b[0;34m:\u001b[0m\u001b[0;36m13\u001b[0m\u001b[0;34m]\u001b[0m\u001b[0;34m\u001b[0m\u001b[0;34m\u001b[0m\u001b[0m\n",
      "\u001b[0;32m/Library/anaconda3/envs/py36/lib/python3.6/site-packages/pandas/core/generic.py\u001b[0m in \u001b[0;36m__getattr__\u001b[0;34m(self, name)\u001b[0m\n\u001b[1;32m   5177\u001b[0m             \u001b[0;32mif\u001b[0m \u001b[0mself\u001b[0m\u001b[0;34m.\u001b[0m\u001b[0m_info_axis\u001b[0m\u001b[0;34m.\u001b[0m\u001b[0m_can_hold_identifiers_and_holds_name\u001b[0m\u001b[0;34m(\u001b[0m\u001b[0mname\u001b[0m\u001b[0;34m)\u001b[0m\u001b[0;34m:\u001b[0m\u001b[0;34m\u001b[0m\u001b[0;34m\u001b[0m\u001b[0m\n\u001b[1;32m   5178\u001b[0m                 \u001b[0;32mreturn\u001b[0m \u001b[0mself\u001b[0m\u001b[0;34m[\u001b[0m\u001b[0mname\u001b[0m\u001b[0;34m]\u001b[0m\u001b[0;34m\u001b[0m\u001b[0;34m\u001b[0m\u001b[0m\n\u001b[0;32m-> 5179\u001b[0;31m             \u001b[0;32mreturn\u001b[0m \u001b[0mobject\u001b[0m\u001b[0;34m.\u001b[0m\u001b[0m__getattribute__\u001b[0m\u001b[0;34m(\u001b[0m\u001b[0mself\u001b[0m\u001b[0;34m,\u001b[0m \u001b[0mname\u001b[0m\u001b[0;34m)\u001b[0m\u001b[0;34m\u001b[0m\u001b[0;34m\u001b[0m\u001b[0m\n\u001b[0m\u001b[1;32m   5180\u001b[0m \u001b[0;34m\u001b[0m\u001b[0m\n\u001b[1;32m   5181\u001b[0m     \u001b[0;32mdef\u001b[0m \u001b[0m__setattr__\u001b[0m\u001b[0;34m(\u001b[0m\u001b[0mself\u001b[0m\u001b[0;34m,\u001b[0m \u001b[0mname\u001b[0m\u001b[0;34m,\u001b[0m \u001b[0mvalue\u001b[0m\u001b[0;34m)\u001b[0m\u001b[0;34m:\u001b[0m\u001b[0;34m\u001b[0m\u001b[0;34m\u001b[0m\u001b[0m\n",
      "\u001b[0;31mAttributeError\u001b[0m: 'Series' object has no attribute 'split'"
     ]
    }
   ],
   "source": [
    "data = origin.replace()\n",
    "for line in data:\n",
    "    date = line[\"开始时间\"]\n",
    "    print(type(date))\n",
    "data[\"年\"] = data[\"开始时间\"].str[0:4]\n",
    "data[\"月\"] = data[\"开始时间\"].str[:].split(\"/\")[1]\n",
    "data[\"日\"] = data[\"开始时间\"].str[8:10]\n",
    "data[\"小时\"] = data[\"开始时间\"].str[11:13]\n",
    "data[\"分\"] = data[\"开始时间\"].str[-2:]\n",
    "data[\"时间\"] = data[\"年\"] + data[\"月\"] + data[\"日\"]\n",
    "data.drop([\"开始时间\", \"事件大类\", \"内容类型\", \"备注\", \"Tag\", \"状态\"], axis=1, inplace=True)\n",
    "data.head()"
   ]
  },
  {
   "cell_type": "code",
   "execution_count": null,
   "metadata": {},
   "outputs": [],
   "source": [
    "# 获取数据基础信息\n",
    "NUM_SAMPLES = data.shape[0]\n",
    "EVENTS_TYPES = data[\"事件类别\"].unique()\n",
    "EVENTS = data[\"事件内容\"].unique()\n",
    "# 整理时间数据\n",
    "TODAY = datetime.date.today()\n",
    "# 获取本周第一天\n",
    "FIRST_DAY_OF_WEEK = TODAY - datetime.timedelta(TODAY.weekday())\n",
    "# 获取本周最后一天\n",
    "END_DAY_OF_WEEK = TODAY + datetime.timedelta(6 - TODAY.weekday())\n",
    "# 获取本月第一天\n",
    "FIRST_DAY_OF_MONTH = datetime.date(TODAY.year, TODAY.month, 1)\n",
    "# 获取本月的最后一天\n",
    "END_DAY_OF_MONTH = datetime.date(TODAY.year,\n",
    "                                 TODAY.month,\n",
    "                                 calendar.monthrange(TODAY.year,\n",
    "                                                     TODAY.month,)[1])\n",
    "# 获取本年的第一天\n",
    "FIRST_DAY_OF_YEAR = datetime.date(TODAY.year, 1, 1)\n",
    "# 获取本年的最后一天\n",
    "END_DAY_OF_YEAR = datetime.date(TODAY.year + 1, 1, 1) - datetime.timedelta(1)\n",
    "# 获取上月的最后一天\n",
    "END_DAY_OF_LAST_MONTH = FIRST_DAY_OF_MONTH - datetime.timedelta(1)\n",
    "# 获取上月的第一天\n",
    "FIRST_DAY_OF_LAST_MONTH = datetime.date(END_DAY_OF_LAST_MONTH.year,\n",
    "                                        END_DAY_OF_LAST_MONTH.month,\n",
    "                                        1)\n",
    "# 获取上周的第一天\n",
    "FIRST_DAY_OF_LAST_WEEK = TODAY - datetime.timedelta(TODAY.weekday() + 7)\n",
    "# 获取上周的最后一天\n",
    "END_DAY_OF_LAST_WEEK = TODAY - datetime.timedelta(TODAY.weekday() + 1)"
   ]
  },
  {
   "cell_type": "code",
   "execution_count": null,
   "metadata": {},
   "outputs": [],
   "source": [
    "DATES = [TODAY,\n",
    "         FIRST_DAY_OF_WEEK, END_DAY_OF_WEEK,\n",
    "         FIRST_DAY_OF_MONTH, END_DAY_OF_MONTH,\n",
    "         FIRST_DAY_OF_LAST_MONTH, END_DAY_OF_LAST_MONTH,\n",
    "         FIRST_DAY_OF_YEAR, END_DAY_OF_YEAR]\n",
    "for index in range(len(DATES)):\n",
    "    DATES[index] = DATES[index].strftime(\"%Y%m%d\")"
   ]
  },
  {
   "cell_type": "code",
   "execution_count": null,
   "metadata": {},
   "outputs": [],
   "source": []
  }
 ],
 "metadata": {
  "kernelspec": {
   "display_name": "py36",
   "language": "python",
   "name": "py36"
  },
  "language_info": {
   "codemirror_mode": {
    "name": "ipython",
    "version": 3
   },
   "file_extension": ".py",
   "mimetype": "text/x-python",
   "name": "python",
   "nbconvert_exporter": "python",
   "pygments_lexer": "ipython3",
   "version": "3.6.9"
  }
 },
 "nbformat": 4,
 "nbformat_minor": 2
}
